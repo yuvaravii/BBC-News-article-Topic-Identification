{
  "nbformat": 4,
  "nbformat_minor": 0,
  "metadata": {
    "colab": {
      "name": " LSA-Theme extraction -.ipynb.ipynb",
      "private_outputs": true,
      "provenance": [],
      "collapsed_sections": [],
      "mount_file_id": "1F3Ql3zaMASyPq95ILMtwuQib-B18jD7Z",
      "authorship_tag": "ABX9TyMPEjMA0lgLbAigKMxrPUX6",
      "include_colab_link": true
    },
    "kernelspec": {
      "name": "python3",
      "display_name": "Python 3"
    },
    "language_info": {
      "name": "python"
    }
  },
  "cells": [
    {
      "cell_type": "markdown",
      "metadata": {
        "id": "view-in-github",
        "colab_type": "text"
      },
      "source": [
        "<a href=\"https://colab.research.google.com/github/yuvaravii/BBC-News-article-Topic-Identification/blob/main/LSA_Theme_extraction_ipynb.ipynb\" target=\"_parent\"><img src=\"https://colab.research.google.com/assets/colab-badge.svg\" alt=\"Open In Colab\"/></a>"
      ]
    },
    {
      "cell_type": "markdown",
      "source": [
        "## **Problem Description**\n",
        "\n",
        "In this project your task is to identify major themes/topics across a collection of BBC news articles. You can use clustering algorithms such as Latent Dirichlet Allocation (LDA), Latent Semantic Analysis (LSA) etc."
      ],
      "metadata": {
        "id": "cdP4iOLjDjR3"
      }
    },
    {
      "cell_type": "code",
      "execution_count": null,
      "metadata": {
        "id": "Rt-yV0CZBHd2"
      },
      "outputs": [],
      "source": [
        "# for dataframes\n",
        "import pandas as pd\n",
        "import numpy as np\n",
        "import re\n",
        "\n",
        "#for ignoring warnings\n",
        "import warnings\n",
        "warnings.filterwarnings(\"ignore\")\n",
        "\n",
        "import json\n",
        "import glob\n",
        "import os\n",
        "\n",
        "\n",
        "#gensim\n",
        "import gensim\n",
        "import gensim.corpora as corpora \n",
        "from gensim.utils import simple_preprocess\n",
        "from gensim.models import CoherenceModel\n",
        "\n",
        "\n",
        "from spacy import displacy\n",
        "from gensim.corpora import Dictionary\n",
        "from gensim.models import LdaModel\n",
        "\n",
        "import sklearn\n",
        "import keras\n",
        "\n",
        "#spacy\n",
        "import spacy \n",
        "from nltk.corpus import stopwords\n",
        "\n",
        "# for visualisation of data\n",
        "import seaborn as sns\n",
        "import matplotlib.pyplot as plt"
      ]
    },
    {
      "cell_type": "code",
      "source": [
        "processed_data_filepath='/content/drive/MyDrive/Colab Notebooks/Capstone Project/BBC article/2. Cleaned and Preprocessed data/3rd_cleaned_dataset_stg.csv'\n",
        "new_df=pd.read_csv(processed_data_filepath)\n",
        "df=new_df.copy()\n",
        "df=df.drop(columns={'Unnamed: 0'})\n",
        "df.head()"
      ],
      "metadata": {
        "id": "7xRFBbzlDqNF"
      },
      "execution_count": null,
      "outputs": []
    },
    {
      "cell_type": "code",
      "source": [
        "# importing necessary libraries\n",
        "from sklearn.feature_extraction.text import  TfidfVectorizer\n",
        "from sklearn.decomposition import TruncatedSVD"
      ],
      "metadata": {
        "id": "YyQ_GJpWDrGU"
      },
      "execution_count": null,
      "outputs": []
    },
    {
      "cell_type": "code",
      "source": [
        "corpus=df['cleaned_doc']\n",
        "corpus[:5]"
      ],
      "metadata": {
        "id": "LSyfZTte4dPu"
      },
      "execution_count": null,
      "outputs": []
    },
    {
      "cell_type": "markdown",
      "source": [
        "**TF IDF vectorization**"
      ],
      "metadata": {
        "id": "bulnpgXp4sFK"
      }
    },
    {
      "cell_type": "code",
      "source": [
        "# creating a model\n",
        "vectorizer=TfidfVectorizer(use_idf=True)\n",
        "\n",
        "# Data imputation into model\n",
        "X=vectorizer.fit_transform(corpus)"
      ],
      "metadata": {
        "id": "FfKcsQcA4jIN"
      },
      "execution_count": null,
      "outputs": []
    },
    {
      "cell_type": "code",
      "source": [
        "X[0]"
      ],
      "metadata": {
        "id": "Mxup48ZA483c"
      },
      "execution_count": null,
      "outputs": []
    },
    {
      "cell_type": "code",
      "source": [
        "print(X[0])  # the right side is the TF IDF score"
      ],
      "metadata": {
        "id": "jJfSCTpi5M03"
      },
      "execution_count": null,
      "outputs": []
    },
    {
      "cell_type": "code",
      "source": [
        "X.shape # Each documents are columnized into matrix giving 7 Lakh columns"
      ],
      "metadata": {
        "id": "IrCjplB-5SG6"
      },
      "execution_count": null,
      "outputs": []
    },
    {
      "cell_type": "code",
      "source": [
        "X.size # Total number of data points present in the matrix"
      ],
      "metadata": {
        "id": "eJ80vA5n51Uh"
      },
      "execution_count": null,
      "outputs": []
    },
    {
      "cell_type": "markdown",
      "source": [
        "**LSA - LATENT SEMANTIC ANALYSIS**\n",
        "\n",
        "The steps are almost similar to that of LDA like\n",
        "1. Document ----> Document term matrix\n",
        "2. Document term matrix -----> Document topic matrix + topic term matrix\n",
        "\n",
        "Here the difference rolls.\n",
        "1. Application of SVD (Singular value decomposition) on Document term matrix.\n",
        "\n",
        "  1.1 Converts the Doc-Term matrix into 3 parts \n",
        "      a) Orthogonal column matrix- Document topic matrix\n",
        "      b) Orthogonal row matrix - Topic term matrix\n",
        "      C) Singular matrix - Importances of topics stored in diagonal matrix\n",
        "\n",
        "2. Hyper parameter tuned according to k(number of topics) with evaluation metric of coherence.\n"
      ],
      "metadata": {
        "id": "I64eIO876Ko2"
      }
    },
    {
      "cell_type": "code",
      "source": [
        "#Model creation\n",
        "lsa=TruncatedSVD(n_components=10 , n_iter=50,algorithm='arpack',random_state=100)\n",
        "\n",
        "# Data imputation into the model\n",
        "lsa.fit_transform(X)"
      ],
      "metadata": {
        "id": "4sAqVu_o6DsX"
      },
      "execution_count": null,
      "outputs": []
    },
    {
      "cell_type": "code",
      "source": [
        "lsa.components_[9]"
      ],
      "metadata": {
        "id": "bLRyJXgM6sR5"
      },
      "execution_count": null,
      "outputs": []
    },
    {
      "cell_type": "code",
      "source": [
        "lsa.get_params"
      ],
      "metadata": {
        "id": "bF2mySSS7lAX"
      },
      "execution_count": null,
      "outputs": []
    },
    {
      "cell_type": "code",
      "source": [
        "vectorizer.get_feature_names()"
      ],
      "metadata": {
        "id": "MQGQv1LU7o6j"
      },
      "execution_count": null,
      "outputs": []
    },
    {
      "cell_type": "code",
      "source": [
        "vocab = vectorizer.get_feature_names()\n",
        "for i, comp in enumerate(lsa.components_):\n",
        "     vocab_comp = zip(vocab, comp)\n",
        "     sorted_words = sorted(vocab_comp, key= lambda x:x[1], reverse=True)[:10]\n",
        "     \n",
        "     print(\"Topic \"+str(i)+\": \")\n",
        "     for t in sorted_words:\n",
        "            print(t[0],end=\" \")\n",
        "     print(\"\\n\")"
      ],
      "metadata": {
        "id": "5iodl8gR6-U9"
      },
      "execution_count": null,
      "outputs": []
    },
    {
      "cell_type": "code",
      "source": [
        "from wordcloud import WordCloud\n",
        "# Generate a word cloud image for given topic\n",
        "def draw_word_cloud(index):\n",
        "  imp_words_topic=\"\"\n",
        "  comp=lsa.components_[index]\n",
        "  vocab_comp = zip(vocab, comp)\n",
        "  sorted_words = sorted(vocab_comp, key= lambda x:x[1], reverse=True)[:50]\n",
        "  for word in sorted_words:\n",
        "    imp_words_topic=imp_words_topic+\" \"+word[0]\n",
        "\n",
        "  wordcloud = WordCloud(width=600, height=400).generate(imp_words_topic)\n",
        "  plt.figure( figsize=(5,5))\n",
        "  plt.imshow(wordcloud)\n",
        "  plt.axis(\"off\")\n",
        "  plt.tight_layout()\n",
        "  \n",
        "  plt.show()\n",
        " "
      ],
      "metadata": {
        "id": "4uOcifpg7v76"
      },
      "execution_count": null,
      "outputs": []
    },
    {
      "cell_type": "code",
      "source": [
        "for i in range(0,10):\n",
        "  print('topic{}'.format(i),draw_word_cloud(i))"
      ],
      "metadata": {
        "id": "ZWaOydjcUjrq"
      },
      "execution_count": null,
      "outputs": []
    },
    {
      "cell_type": "code",
      "source": [
        ""
      ],
      "metadata": {
        "id": "syaB4e6-ZaXJ"
      },
      "execution_count": null,
      "outputs": []
    }
  ]
}